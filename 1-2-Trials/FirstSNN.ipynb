{
 "cells": [
  {
   "cell_type": "code",
   "execution_count": null,
   "id": "03493c27-6489-40bf-ac3d-134e1a507d2c",
   "metadata": {
    "tags": []
   },
   "outputs": [],
   "source": [
    "#%pip install gym[atari]\n",
    "#%pip install gym[all]\n",
    "#%pip install opencv-python\n",
    "#%pip install gym[accept-rom-license]\n",
    "#%pip install gym pyvirtualdisplay matplotlib"
   ]
  },
  {
   "cell_type": "code",
   "execution_count": null,
   "id": "d80962f2-b248-43c6-93e7-720edbfdf5cd",
   "metadata": {},
   "outputs": [],
   "source": [
    "import gym\n",
    "from gym import wrappers\n",
    "import matplotlib.pyplot as plt\n",
    "from IPython import display\n",
    "import random\n",
    "import cv2\n",
    "import pyNN.spiNNaker as p\n",
    "p.setup(0.1)\n",
    "import math"
   ]
  },
  {
   "cell_type": "code",
   "execution_count": null,
   "id": "082731a4-0d8a-4fa9-970d-e5839bf521f0",
   "metadata": {},
   "outputs": [],
   "source": []
  },
  {
   "cell_type": "code",
   "execution_count": null,
   "id": "bb6d6f12-0909-4be7-b499-5c91f57ef017",
   "metadata": {
    "tags": []
   },
   "outputs": [],
   "source": [
    "#########\n",
    "# Input #\n",
    "#########"
   ]
  },
  {
   "cell_type": "code",
   "execution_count": null,
   "id": "17d9fa86-b3d5-46df-b7c7-e52d67db1870",
   "metadata": {
    "tags": []
   },
   "outputs": [],
   "source": [
    "#\n",
    "#\n",
    "#\n",
    "#"
   ]
  },
  {
   "cell_type": "code",
   "execution_count": null,
   "id": "8432f47c-17af-4259-a0f1-819cb070cd54",
   "metadata": {},
   "outputs": [],
   "source": [
    "def inputFrameProcessor(frame):\n",
    "    return cv2.cvtColor(frame,cv2.COLOR_BGR2GRAY)\n"
   ]
  },
  {
   "cell_type": "code",
   "execution_count": null,
   "id": "230ed65d-1c69-4dbb-9b0d-e55224acb5b5",
   "metadata": {},
   "outputs": [],
   "source": [
    "def inputToSpikeSourceArray(frame):\n",
    "    grayframe = inputFrameProcessor(frame) \n",
    "    return [m+100 for line in grayframe for m in line]"
   ]
  },
  {
   "cell_type": "code",
   "execution_count": null,
   "id": "1c18c014-37e5-414a-b464-487bbae2e50f",
   "metadata": {},
   "outputs": [],
   "source": [
    "def createOutputLayers(action_space_size):\n",
    "    output=[]\n",
    "    for i in range(action_space_size):\n",
    "        l = p.Population(10,p.IF_curr_exp())\n",
    "        output.append(l)\n",
    "        l.record([\"spikes\", \"v\"])\n",
    "    return output"
   ]
  },
  {
   "cell_type": "code",
   "execution_count": null,
   "id": "ad610369",
   "metadata": {},
   "outputs": [],
   "source": [
    "def selectOutput(records):\n",
    "    choice = 0\n",
    "    best = 0\n",
    "    for i in range(len(records)):\n",
    "        if len(records[i])>best:\n",
    "            best = len(records[i])\n",
    "            choice = i\n",
    "    return choice\n",
    "        \n",
    "    "
   ]
  },
  {
   "cell_type": "code",
   "execution_count": null,
   "id": "9ae8eb1f-da8c-4772-95da-aa29cf06a2ce",
   "metadata": {},
   "outputs": [],
   "source": [
    "timing_rule = p.SpikePairRule(tau_plus=0.1, tau_minus=0.1, A_plus=0.1, A_minus=0.1)\n",
    "weight_rule_pos = p.AdditiveWeightDependence(w_max=50.0, w_min=1.0)\n",
    "weight_rule_neg = p.AdditiveWeightDependence(w_max=1.0, w_min=-50.0)\n",
    "stdp_model_excitatory = p.STDPMechanism(timing_dependence=timing_rule, weight_dependence=weight_rule_pos, weight=25.0,delay=5.0)\n",
    "stdp_model_inhibitory = p.STDPMechanism(timing_dependence=timing_rule, weight_dependence=weight_rule_neg, weight=-25.0,delay=5.0)"
   ]
  },
  {
   "cell_type": "code",
   "execution_count": null,
   "id": "78822910-bb17-4a2a-af68-52e7fd733a8f",
   "metadata": {},
   "outputs": [],
   "source": [
    "env = gym.make(\"Pong-v0\")\n",
    "print(\"The environment has the following {} actions: {}\".format(env.action_space.n, \n",
    "                                                                env.unwrapped.get_action_meanings()))\n",
    "env = wrappers.Monitor(env, \"/tmp/Pong-v0\", force=True)\n",
    "print(len(env.unwrapped.get_action_meanings()))\n",
    "fig = plt.figure(figsize=(5, 5))\n",
    "img = plt.imshow(env.render(mode='rgb_array'))"
   ]
  },
  {
   "cell_type": "code",
   "execution_count": null,
   "id": "793f742a-8c4b-4d34-b4e5-f275d43f14d2",
   "metadata": {},
   "outputs": [],
   "source": []
  },
  {
   "cell_type": "code",
   "execution_count": null,
   "id": "6fe87a8f-a3fe-4d38-9925-6177bc3ddea7",
   "metadata": {},
   "outputs": [],
   "source": [
    "\n",
    "\n",
    "### INPUT LAYER ###\n",
    "inLayer = p.Population(len(inputToSpikeSourceArray(env.render(mode='rgb_array'))),p.SpikeSourcePoisson(rate=inputToSpikeSourceArray(env.render(mode='rgb_array'))))\n",
    "inLayer.record([\"spikes\"])\n",
    "### EXCITATION LAYER ###\n",
    "excitatoryPop = p.Population(int(10),p.IF_curr_exp())\n",
    "excitatoryPop.record([\"spikes\"])\n",
    "### INHIBITORY LAYER ###\n",
    "inhibitoryPop = p.Population(int(10),p.IF_curr_exp())\n",
    "inhibitoryPop.record([\"spikes\"])\n",
    "### REWARD POPULATION ###\n",
    "rewardInput = p.Population(10,p.SpikeSourcePoisson(rate=0))\n",
    "### PUNISHMENT POPULATION ###\n",
    "punInput = p.Population(10,p.SpikeSourcePoisson(rate=0))\n",
    "### Output Layers ###\n",
    "outputLayers = createOutputLayers(len(env.unwrapped.get_action_meanings()))\n",
    "\n",
    "\n",
    "### PROJECTION ###\n",
    "InputExcProjection = p.Projection(inLayer,excitatoryPop,p.AllToAllConnector(), synapse_type=stdp_model_excitatory)\n",
    "#excInhProjection = p.Projection(excitatoryPop,inhibitoryPop,p.AllToAllConnector(), synapse_type=stdp_model_excitatory)\n",
    "#inhExcProjection = p.Projection(inhibitoryPop,excitatoryPop,p.AllToAllConnector(), synapse_type=stdp_model_excitatory)\n",
    "rewardExcProjection = p.Projection(rewardInput,excitatoryPop,p.AllToAllConnector())\n",
    "#punInhProjection = p.Projection(punInput,inhibitoryPop,p.AllToAllConnector())\n",
    "punExcProjection = p.Projection(punInput,excitatoryPop,p.AllToAllConnector())\n",
    "outExcProjections = [p.Projection(excitatoryPop,outputLayer,p.AllToAllConnector()) for outputLayer in outputLayers]\n",
    "\n",
    "\n",
    "\n",
    "#action = random.randint(0,5)\n",
    "episodes=[*range(2)]\n",
    "totreward = []\n",
    "for episode in range(2):\n",
    "    observation = env.reset()\n",
    "    \n",
    "    step = 0\n",
    "    total_reward = 0\n",
    "    action=0\n",
    "    done =False\n",
    "   \n",
    "    while not done:\n",
    "        step += 1\n",
    "        \n",
    "        env.render()\n",
    "        print(\"episode\",episode,\"step\",step,\"reward\",total_reward,\"action\",action)\n",
    "        \n",
    "        img.set_data(env.render(mode='rgb_array'))\n",
    "        \n",
    "        display.display(plt.gcf())\n",
    "        display.clear_output(wait=True)\n",
    "        \n",
    "        \n",
    "        observation, reward, done, info = env.step(action)\n",
    "        inLayer.set(rate=inputToSpikeSourceArray(observation))\n",
    "        rewardInput.set(rate= 1 if total_reward<0 else total_reward)\n",
    "        punInput.set(rate = abs(total_reward) if total_reward<0 else 1) \n",
    "        print([outputLayer.get_data(\"spikes\").segments[0].spiketrains[0] for outputLayer in outputLayers])\n",
    "        print(\"inputspikes\",inLayer.get_data(\"spikes\").segments[0].spiketrains[0])\n",
    "        print(\"exspikes\",excitatoryPop.get_data(\"spikes\").segments[0].spiketrains[0])\n",
    "        #print(\"inspikes\",inhibitoryPop.get_data(\"spikes\").segments[0].spiketrains[0])\n",
    "        #print(\"WEGHITS\",InputExcProjection.get([\"weight\"], \"list\"))\n",
    "        p.run(100)\n",
    "        \n",
    "        action = selectOutput([outputLayer.get_data(\"spikes\").segments[0].spiketrains[0] for outputLayer in outputLayers])\n",
    "        \n",
    "        \n",
    "        #print(\"WEGHITS\",InputExcProjection.get([\"weight\"], \"list\"))\n",
    "       \n",
    "        total_reward += reward\n",
    "        \n",
    "   \n",
    "        \n",
    "        \n",
    "    totreward.append(total_reward)\n",
    "    print(\"Episode: {0},\\tSteps: {1},\\tscore: {2}\".format(episode, step, total_reward))\n",
    "    \n",
    "env.close()"
   ]
  },
  {
   "cell_type": "code",
   "execution_count": null,
   "id": "55b8b7be-65d2-4698-aa5f-db95195f5dff",
   "metadata": {},
   "outputs": [],
   "source": []
  },
  {
   "cell_type": "code",
   "execution_count": null,
   "id": "524a0752-f2d3-4d81-9f97-f61e3606514f",
   "metadata": {},
   "outputs": [],
   "source": [
    "plt.plot(episodes,totreward)\n",
    "plt.xlabel('Episodes')\n",
    "plt.ylabel('Total Reward')\n",
    "plt.savefig(\"TrainingResult.png\")"
   ]
  },
  {
   "cell_type": "code",
   "execution_count": null,
   "id": "d2715523-f56b-4d35-a0e3-434dbd87c8a6",
   "metadata": {},
   "outputs": [],
   "source": []
  },
  {
   "cell_type": "code",
   "execution_count": null,
   "id": "3cebe1f8-2b4e-48b9-bedd-6f771a592240",
   "metadata": {},
   "outputs": [],
   "source": []
  },
  {
   "cell_type": "code",
   "execution_count": null,
   "id": "47eac6fd-7a65-46c7-b9f1-bca9ff9dc5e1",
   "metadata": {},
   "outputs": [],
   "source": [
    "##################\n",
    "# Neural Network #\n",
    "##################\n",
    "#\n",
    "#\n",
    "#\n",
    "#"
   ]
  },
  {
   "cell_type": "code",
   "execution_count": null,
   "id": "f61a0549-1a22-4c97-8cc6-c60ff3d08f63",
   "metadata": {},
   "outputs": [],
   "source": [
    "####### "
   ]
  },
  {
   "cell_type": "code",
   "execution_count": null,
   "id": "7d3fb741-03e4-4cf7-9c39-d4766b3bb870",
   "metadata": {},
   "outputs": [],
   "source": []
  },
  {
   "cell_type": "code",
   "execution_count": null,
   "id": "a83f7d8c-05f5-4f00-999e-971b31e4ad15",
   "metadata": {},
   "outputs": [],
   "source": []
  },
  {
   "cell_type": "code",
   "execution_count": null,
   "id": "d7349579-bac2-4abd-8c0d-de270a263bbf",
   "metadata": {},
   "outputs": [],
   "source": [
    "##########\n",
    "# Output #\n",
    "##########\n",
    "#\n",
    "#\n",
    "#\n",
    "#"
   ]
  },
  {
   "cell_type": "code",
   "execution_count": null,
   "id": "fefccda9-7f82-4e07-94ac-042f098ee8db",
   "metadata": {},
   "outputs": [],
   "source": []
  },
  {
   "cell_type": "code",
   "execution_count": null,
   "id": "bdc4c2a4-ad12-4f01-a2ca-1109b28b6cb4",
   "metadata": {},
   "outputs": [],
   "source": []
  },
  {
   "cell_type": "code",
   "execution_count": null,
   "id": "7a414fdc-3a34-49bc-b097-5c2c4caa043c",
   "metadata": {},
   "outputs": [],
   "source": []
  },
  {
   "cell_type": "code",
   "execution_count": null,
   "id": "624f99a6-6951-4720-96e4-a5bedd09bd83",
   "metadata": {},
   "outputs": [],
   "source": []
  }
 ],
 "metadata": {
  "kernelspec": {
   "display_name": "sPyNNaker",
   "language": "python",
   "name": "spynnaker"
  },
  "language_info": {
   "codemirror_mode": {
    "name": "ipython",
    "version": 3
   },
   "file_extension": ".py",
   "mimetype": "text/x-python",
   "name": "python",
   "nbconvert_exporter": "python",
   "pygments_lexer": "ipython3",
   "version": "3.8.5"
  }
 },
 "nbformat": 4,
 "nbformat_minor": 5
}
